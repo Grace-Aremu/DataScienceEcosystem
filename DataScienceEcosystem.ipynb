{
 "cells": [
  {
   "cell_type": "code",
   "execution_count": null,
   "id": "1a8d66f4-1a5a-42db-85fc-59357206dfbb",
   "metadata": {},
   "outputs": [],
   "source": []
  },
  {
   "cell_type": "markdown",
   "id": "92bb09ac-7348-462d-a929-8dd2ea510394",
   "metadata": {},
   "source": [
    "# Data Science Tools and Ecosystem"
   ]
  },
  {
   "attachments": {},
   "cell_type": "markdown",
   "id": "a0d05b6b-0c34-4ce3-8931-3742449cb1ee",
   "metadata": {},
   "source": [
    "**In this notebook, Data Science Tools and Ecosystem are summarized**"
   ]
  },
  {
   "cell_type": "markdown",
   "id": "6dcbc320-e547-4ca5-8670-76a7d23747ae",
   "metadata": {},
   "source": [
    "**Objectives:** -List popular languages for data science -Create a table of data science tools -Convert minutes to hours"
   ]
  },
  {
   "cell_type": "markdown",
   "id": "f44a1abf-94a7-463e-877a-e835adf0c1cd",
   "metadata": {},
   "source": [
    "### Some of the popular languages that Data Scientist use are:"
   ]
  },
  {
   "cell_type": "markdown",
   "id": "7efea145-bd3c-4ab7-b40b-6ea53ffb0619",
   "metadata": {},
   "source": [
    "1. Python\n",
    "2. R\n",
    "3. SQL\n",
    "4. Java"
   ]
  },
  {
   "cell_type": "markdown",
   "id": "174e8240-d0e2-429f-90aa-45642606a2b8",
   "metadata": {},
   "source": [
    "### Some of the commonly used libraries used by Data  Scientists include:"
   ]
  },
  {
   "cell_type": "markdown",
   "id": "e2094920-4b7f-485c-ae36-0914b438afbd",
   "metadata": {},
   "source": [
    "1. Numpy\n",
    "2. Panda\n",
    "3. Caret\n",
    "4. Tensorflow\n",
    "5. keras"
   ]
  },
  {
   "cell_type": "markdown",
   "id": "9231c66b-7934-43f1-9eb3-66659ff229a4",
   "metadata": {},
   "source": [
    "|Data Science Tools|\n",
    "-----\n",
    "|Jupyter Lab|\n",
    "|R Studio|\n",
    "|Jupyter Notebook|"
   ]
  },
  {
   "cell_type": "markdown",
   "id": "7c25fa9a-42fb-4967-9b02-0237fcf0ced8",
   "metadata": {},
   "source": [
    "### Below are a few examples of evaluating arithmetic expressions in Python"
   ]
  },
  {
   "cell_type": "code",
   "execution_count": 8,
   "id": "5f584fc2-75dc-4fdd-a4bb-e0b6e0360c6f",
   "metadata": {},
   "outputs": [
    {
     "data": {
      "text/plain": [
       "17"
      ]
     },
     "execution_count": 8,
     "metadata": {},
     "output_type": "execute_result"
    }
   ],
   "source": [
    "#This is a simple arithmetic expression to mutiply then add integers\n",
    "(3*4)+5"
   ]
  },
  {
   "cell_type": "code",
   "execution_count": 20,
   "id": "f11ac9ba-f680-4f96-8a06-8d67750df9d4",
   "metadata": {},
   "outputs": [
    {
     "name": "stdout",
     "output_type": "stream",
     "text": [
      "200 minutes is equal to 3.3333333333333335 hours.\n"
     ]
    }
   ],
   "source": [
    "#This will convert 200 minutes by dividing by 60\n",
    "minutes = 200\n",
    "hours = minutes / 60\n",
    "\n",
    "print(f\"{minutes} minutes is equal to {hours} hours.\")"
   ]
  },
  {
   "cell_type": "markdown",
   "id": "42c27e52-e60d-48c9-9d64-4ac445f57ef4",
   "metadata": {},
   "source": [
    "Author\n",
    "-----\n",
    "Grace Aremu"
   ]
  },
  {
   "cell_type": "code",
   "execution_count": null,
   "id": "c50d46c3-2217-44f7-83b2-24a6fa78c781",
   "metadata": {},
   "outputs": [],
   "source": []
  }
 ],
 "metadata": {
  "kernelspec": {
   "display_name": "Python 3 (ipykernel)",
   "language": "python",
   "name": "python3"
  },
  "language_info": {
   "codemirror_mode": {
    "name": "ipython",
    "version": 3
   },
   "file_extension": ".py",
   "mimetype": "text/x-python",
   "name": "python",
   "nbconvert_exporter": "python",
   "pygments_lexer": "ipython3",
   "version": "3.11.5"
  }
 },
 "nbformat": 4,
 "nbformat_minor": 5
}
